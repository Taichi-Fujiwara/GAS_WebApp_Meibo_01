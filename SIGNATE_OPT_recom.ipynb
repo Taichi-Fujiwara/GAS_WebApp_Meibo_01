{
  "nbformat": 4,
  "nbformat_minor": 0,
  "metadata": {
    "colab": {
      "provenance": [],
      "authorship_tag": "ABX9TyOc8nLGevNJ0A96zYjg6J1F",
      "include_colab_link": true
    },
    "kernelspec": {
      "name": "python3",
      "display_name": "Python 3"
    },
    "language_info": {
      "name": "python"
    }
  },
  "cells": [
    {
      "cell_type": "markdown",
      "metadata": {
        "id": "view-in-github",
        "colab_type": "text"
      },
      "source": [
        "<a href=\"https://colab.research.google.com/github/Taichi-Fujiwara/GAS_WebApp_Meibo_01/blob/main/SIGNATE_OPT_recom.ipynb\" target=\"_parent\"><img src=\"https://colab.research.google.com/assets/colab-badge.svg\" alt=\"Open In Colab\"/></a>"
      ]
    },
    {
      "cell_type": "code",
      "source": [
        "#ライブラリ\n",
        "import numpy as np\n",
        "import pandas as pd\n",
        "import pandas_profiling as pdpf\n",
        "import matplotlib.pyplot as plt\n",
        "# from xgboost import XGBRFClassifier\n",
        "import xgboost as xgb\n",
        "from sklearn.model_selection import train_test_split\n",
        "import seaborn as sns\n",
        "\n",
        "from sklearn.svm import SVC\n",
        "from sklearn.model_selection import GridSearchCV, train_test_split\n",
        "from sklearn.metrics import confusion_matrix"
      ],
      "metadata": {
        "id": "rccoIdgH78EL"
      },
      "execution_count": null,
      "outputs": []
    },
    {
      "cell_type": "code",
      "execution_count": null,
      "metadata": {
        "id": "1FnZlpVc6xe9"
      },
      "outputs": [],
      "source": [
        "# csvデータ取得\n",
        "trainPath = \"train.csv\"\n",
        "testPath = \"test.csv\"\n",
        "sampleSubmitPath = \"sample_submit.csv\"\n",
        "\n",
        "# 目的変数\n",
        "target= \"Attrition\"\n",
        "\n",
        "train = pd.read_csv(trainPath)\n",
        "test = pd.read_csv(testPath)\n",
        "\n",
        "# 応募用サンプルファイル\n",
        "sample_submit = pd.read_csv(sampleSubmitPath)\n",
        "\n",
        "# display(train)\n",
        "print(\n",
        "    train.shape,\n",
        "    test.shape,\n",
        "    sample_submit.shape\n",
        ")"
      ]
    },
    {
      "cell_type": "code",
      "source": [],
      "metadata": {
        "id": "AHevJaVm8ARe"
      },
      "execution_count": null,
      "outputs": []
    }
  ]
}